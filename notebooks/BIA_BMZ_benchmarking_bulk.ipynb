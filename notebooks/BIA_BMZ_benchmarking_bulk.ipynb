{
 "cells": [
  {
   "cell_type": "markdown",
   "metadata": {},
   "source": [
    "# Bioimage Model Zoo and BioImageArchive integration example notebook\n",
    "\n",
    "This notebook shows how to benchmark several models from the [BioImage Model Zoo](https://bioimage.io) using reference datasets from the [BioImage Archive](https://www.ebi.ac.uk/bioimage-archive/)"
   ]
  },
  {
   "cell_type": "markdown",
   "metadata": {},
   "source": [
    "### 1. Import necessary dependencies"
   ]
  },
  {
   "cell_type": "code",
   "execution_count": 1,
   "metadata": {},
   "outputs": [
    {
     "name": "stderr",
     "output_type": "stream",
     "text": [
      "2024-09-27 15:33:42.108416: I tensorflow/core/platform/cpu_feature_guard.cc:210] This TensorFlow binary is optimized to use available CPU instructions in performance-critical operations.\n",
      "To enable the following instructions: AVX2 AVX512F AVX512_VNNI FMA, in other operations, rebuild TensorFlow with the appropriate compiler flags.\n"
     ]
    }
   ],
   "source": [
    "from bia_bmz_integration import bulk_process"
   ]
  },
  {
   "cell_type": "markdown",
   "metadata": {},
   "source": [
    "### 2. Input BMZ models to benchmark"
   ]
  },
  {
   "cell_type": "markdown",
   "metadata": {},
   "source": [
    "Let's look at the performance of [this model](https://bioimage.io/#/?type=model&tags=noisy-fish&id=10.5281%2Fzenodo.7772662) to segment cell nuclei in 3D. The model is a Unet trained on confocal images of Arabidopsis Ovules nuclei stain with BCEDiceLoss."
   ]
  },
  {
   "cell_type": "code",
   "execution_count": 2,
   "metadata": {},
   "outputs": [],
   "source": [
    "models = [\n",
    "    \"affable-shark\",\n",
    "    \"powerful-chipmunk\",\n",
    "]"
   ]
  },
  {
   "cell_type": "markdown",
   "metadata": {},
   "source": [
    "### 3. Input reference image from the BIA"
   ]
  },
  {
   "cell_type": "markdown",
   "metadata": {},
   "source": [
    "We will test its performance on [S-BIAD1026](https://www.ebi.ac.uk/biostudies/bioimages/studies/S-BIAD1026). A dataset that contains annotated 3D images of Arabidopsis Ovules "
   ]
  },
  {
   "cell_type": "code",
   "execution_count": 3,
   "metadata": {},
   "outputs": [],
   "source": [
    "datasets = {\n",
    "    \"BIAD634\": (\n",
    "        \"https://uk1s3.embassy.ebi.ac.uk/bia-zarr-test/normal_26.ome.zarr/0\",\n",
    "        \"https://uk1s3.embassy.ebi.ac.uk/bia-zarr-test/normal_26_mask.ome.zarr/0\",\n",
    "    ),\n",
    "        \"BIAD635\": (\n",
    "        \"https://uk1s3.embassy.ebi.ac.uk/bia-zarr-test/normal_26.ome.zarr/0\",\n",
    "        \"https://uk1s3.embassy.ebi.ac.uk/bia-zarr-test/normal_26_mask.ome.zarr/0\",\n",
    "    ),\n",
    "}"
   ]
  },
  {
   "cell_type": "markdown",
   "metadata": {},
   "source": [
    "### 4. Input corresponding reference annotation"
   ]
  },
  {
   "cell_type": "markdown",
   "metadata": {},
   "source": [
    "We need the corresponding segentation mask to benchmark"
   ]
  },
  {
   "cell_type": "code",
   "execution_count": 4,
   "metadata": {},
   "outputs": [],
   "source": [
    "#reference_annotations = \"https://uk1s3.embassy.ebi.ac.uk/bia-zarr-test/1135_n_stain_StarDist_goldGT_180_rotation.ome.zarr/0\""
   ]
  },
  {
   "cell_type": "markdown",
   "metadata": {},
   "source": [
    "### 5. Run benchmarking"
   ]
  },
  {
   "cell_type": "markdown",
   "metadata": {},
   "source": [
    "We are going to run the model on a few z planes to speed things up. The relevant metrics here are IoU and Dice that allow us to evaluate the accuracy of the segmentation. The IoU and Dice scores vary from zero to 1, with 1 denoting the most similarity between the model's prediction and the reference annotation."
   ]
  },
  {
   "cell_type": "code",
   "execution_count": 5,
   "metadata": {},
   "outputs": [
    {
     "name": "stderr",
     "output_type": "stream",
     "text": [
      "\u001b[32m2024-09-27 15:33:49.175\u001b[0m | \u001b[1mINFO    \u001b[0m | \u001b[36mbioimageio.spec._internal.io_utils\u001b[0m:\u001b[36mopen_bioimageio_yaml\u001b[0m:\u001b[36m112\u001b[0m - \u001b[1mloading affable-shark from https://uk1s3.embassy.ebi.ac.uk/public-datasets/bioimage.io/affable-shark/1.1/files/rdf.yaml\u001b[0m\n",
      "computing SHA256 of 3c123c5162a87c48333c80f7389e99a7-zero_mean_unit_variance.ijm (result: 767f2c3a50e36365c30b9e46e57fcf82e606d337e8a48d4a2440dc512813d186): 100%|██████████| 1/1 [00:00<00:00, 752.48it/s] \n",
      "computing SHA256 of 93e503596d7d0bbf5b3937cf1a80402b-test_input_0.npy (result: c29bd6e16e3f7856217b407ba948222b1c2a0da41922a0f79297e25588614fe2): 100%|██████████| 3/3 [00:00<00:00, 1687.40it/s]\n",
      "computing SHA256 of baeb9b3639733aa6ad5f8305149a3585-sample_input_0.tif (result: a24b3c708b6ca6825494eb7c5a4d221335fb3eef5eb9d03f4108907cdaad2bf9): 100%|██████████| 1/1 [00:00<00:00, 781.21it/s] \n",
      "computing SHA256 of 858a63339bdb8f80ff310e077a5079bb-test_output_0.npy (result: 510181f38930e59e4fd8ecc03d6ea7c980eb6609759655f2d4a41fe36108d5f5): 100%|██████████| 5/5 [00:00<00:00, 2308.37it/s]\n",
      "computing SHA256 of d22d18e9c3592839985cac2534ac4617-sample_output_0.tif (result: e8f99aabe8405427f515eba23a49f58ba50302f57d1fdfd07026e1984f836c5e): 100%|██████████| 5/5 [00:00<00:00, 2170.07it/s]\n",
      "computing SHA256 of 4f6534376602b6e094e1895b93c4ee74-weights.onnx (result: df913b85947f5132bcdaf81d91af0963f60d44f4caf8a4fec672d96a2f327b44): 100%|██████████| 884/884 [00:00<00:00, 6903.55it/s]\n",
      "computing SHA256 of 760a77af34fd5e3e1eebeff7e0669585-unet.py (result: 7f5b15948e8e2c91f78dcff34fbf30af517073e91ba487f3edb982b948d099b3): 100%|██████████| 1/1 [00:00<00:00, 699.75it/s] \n",
      "computing SHA256 of 78e469078bf5116258ceaf6f41001dd7-weights.pt (result: 608f52cd7f5119f7a7b8272395b0c169714e8be34536eaf159820f72a1d6a5b7): 100%|██████████| 884/884 [00:00<00:00, 6060.90it/s]\n",
      "computing SHA256 of d44de80414e1fd1414b97beaaed935f5-weights-torchscript.pt (result: 8410950508655a300793b389c815dc30b1334062fc1dadb1e15e55a93cbb99a0): 100%|██████████| 885/885 [00:00<00:00, 7182.57it/s]\n"
     ]
    },
    {
     "name": "stdout",
     "output_type": "stream",
     "text": [
      "IoU score: tensor([[0.9603]])\n",
      "Dice score: tensor([[0.9797]])\n",
      "PSNR score reconstructed image: tensor([[9.9151]])\n",
      "RMSE score reconstructed image: tensor([[10.2187]])\n",
      "SSIM score reconstructed image: tensor([[0.6848]])\n"
     ]
    },
    {
     "name": "stderr",
     "output_type": "stream",
     "text": [
      "\u001b[32m2024-09-27 15:34:05.696\u001b[0m | \u001b[1mINFO    \u001b[0m | \u001b[36mbioimageio.spec._internal.io_utils\u001b[0m:\u001b[36mopen_bioimageio_yaml\u001b[0m:\u001b[36m112\u001b[0m - \u001b[1mloading affable-shark from https://uk1s3.embassy.ebi.ac.uk/public-datasets/bioimage.io/affable-shark/1.1/files/rdf.yaml\u001b[0m\n"
     ]
    },
    {
     "name": "stdout",
     "output_type": "stream",
     "text": [
      "IoU score: tensor([[0.9603]])\n",
      "Dice score: tensor([[0.9797]])\n",
      "PSNR score reconstructed image: tensor([[9.9151]])\n",
      "RMSE score reconstructed image: tensor([[10.2187]])\n",
      "SSIM score reconstructed image: tensor([[0.6848]])\n"
     ]
    },
    {
     "name": "stderr",
     "output_type": "stream",
     "text": [
      "\u001b[32m2024-09-27 15:34:25.842\u001b[0m | \u001b[1mINFO    \u001b[0m | \u001b[36mbioimageio.spec._internal.io_utils\u001b[0m:\u001b[36mopen_bioimageio_yaml\u001b[0m:\u001b[36m112\u001b[0m - \u001b[1mloading powerful-chipmunk from https://uk1s3.embassy.ebi.ac.uk/public-datasets/bioimage.io/powerful-chipmunk/1/files/rdf.yaml\u001b[0m\n",
      "computing SHA256 of 1e659a86d8dd8a7c6cfb3315f4447f5d-weights.pt (result: 3bd9c518c8473f1e35abb7624f82f3aa92f1015e66fb1f6a9d08444e1f2f5698): 100%|██████████| 884/884 [00:00<00:00, 6341.86it/s]\n",
      "computing SHA256 of 97a83ece802cfc5ba362aa76b5f77c3a-weights-torchscript.pt (result: 4e568fd81c0ffa06ce13061327c3f673e1bac808891135badd3b0fcdacee086b): 100%|██████████| 885/885 [00:00<00:00, 5990.22it/s]\n"
     ]
    },
    {
     "name": "stdout",
     "output_type": "stream",
     "text": [
      "IoU score: tensor([[0.9270]])\n",
      "Dice score: tensor([[0.9621]])\n",
      "PSNR score reconstructed image: tensor([[9.9167]])\n",
      "RMSE score reconstructed image: tensor([[10.2168]])\n",
      "SSIM score reconstructed image: tensor([[0.6661]])\n"
     ]
    },
    {
     "name": "stderr",
     "output_type": "stream",
     "text": [
      "\u001b[32m2024-09-27 15:34:45.464\u001b[0m | \u001b[1mINFO    \u001b[0m | \u001b[36mbioimageio.spec._internal.io_utils\u001b[0m:\u001b[36mopen_bioimageio_yaml\u001b[0m:\u001b[36m112\u001b[0m - \u001b[1mloading powerful-chipmunk from https://uk1s3.embassy.ebi.ac.uk/public-datasets/bioimage.io/powerful-chipmunk/1/files/rdf.yaml\u001b[0m\n"
     ]
    },
    {
     "name": "stdout",
     "output_type": "stream",
     "text": [
      "IoU score: tensor([[0.9270]])\n",
      "Dice score: tensor([[0.9621]])\n",
      "PSNR score reconstructed image: tensor([[9.9167]])\n",
      "RMSE score reconstructed image: tensor([[10.2168]])\n",
      "SSIM score reconstructed image: tensor([[0.6661]])\n"
     ]
    },
    {
     "data": {
      "text/html": [
       "<div>\n",
       "<style scoped>\n",
       "    .dataframe tbody tr th:only-of-type {\n",
       "        vertical-align: middle;\n",
       "    }\n",
       "\n",
       "    .dataframe tbody tr th {\n",
       "        vertical-align: top;\n",
       "    }\n",
       "\n",
       "    .dataframe thead th {\n",
       "        text-align: right;\n",
       "    }\n",
       "</style>\n",
       "<table border=\"1\" class=\"dataframe\">\n",
       "  <thead>\n",
       "    <tr style=\"text-align: right;\">\n",
       "      <th></th>\n",
       "      <th></th>\n",
       "      <th>Dataset BIAD634</th>\n",
       "      <th>Dataset BIAD635</th>\n",
       "    </tr>\n",
       "    <tr>\n",
       "      <th>Model</th>\n",
       "      <th>Score</th>\n",
       "      <th></th>\n",
       "      <th></th>\n",
       "    </tr>\n",
       "  </thead>\n",
       "  <tbody>\n",
       "    <tr>\n",
       "      <th rowspan=\"5\" valign=\"top\">Model affable-shark</th>\n",
       "      <th>IoU</th>\n",
       "      <td>[[tensor(0.9603)]]</td>\n",
       "      <td>[[tensor(0.9603)]]</td>\n",
       "    </tr>\n",
       "    <tr>\n",
       "      <th>Dice</th>\n",
       "      <td>[[tensor(0.9797)]]</td>\n",
       "      <td>[[tensor(0.9797)]]</td>\n",
       "    </tr>\n",
       "    <tr>\n",
       "      <th>PSNR</th>\n",
       "      <td>[[tensor(9.9151)]]</td>\n",
       "      <td>[[tensor(9.9151)]]</td>\n",
       "    </tr>\n",
       "    <tr>\n",
       "      <th>RMSE</th>\n",
       "      <td>[[tensor(10.2187)]]</td>\n",
       "      <td>[[tensor(10.2187)]]</td>\n",
       "    </tr>\n",
       "    <tr>\n",
       "      <th>SSIM</th>\n",
       "      <td>[[tensor(0.6848)]]</td>\n",
       "      <td>[[tensor(0.6848)]]</td>\n",
       "    </tr>\n",
       "    <tr>\n",
       "      <th rowspan=\"5\" valign=\"top\">Model powerful-chipmunk</th>\n",
       "      <th>IoU</th>\n",
       "      <td>[[tensor(0.9270)]]</td>\n",
       "      <td>[[tensor(0.9270)]]</td>\n",
       "    </tr>\n",
       "    <tr>\n",
       "      <th>Dice</th>\n",
       "      <td>[[tensor(0.9621)]]</td>\n",
       "      <td>[[tensor(0.9621)]]</td>\n",
       "    </tr>\n",
       "    <tr>\n",
       "      <th>PSNR</th>\n",
       "      <td>[[tensor(9.9167)]]</td>\n",
       "      <td>[[tensor(9.9167)]]</td>\n",
       "    </tr>\n",
       "    <tr>\n",
       "      <th>RMSE</th>\n",
       "      <td>[[tensor(10.2168)]]</td>\n",
       "      <td>[[tensor(10.2168)]]</td>\n",
       "    </tr>\n",
       "    <tr>\n",
       "      <th>SSIM</th>\n",
       "      <td>[[tensor(0.6661)]]</td>\n",
       "      <td>[[tensor(0.6661)]]</td>\n",
       "    </tr>\n",
       "  </tbody>\n",
       "</table>\n",
       "</div>"
      ],
      "text/plain": [
       "                                   Dataset BIAD634      Dataset BIAD635\n",
       "Model                   Score                                          \n",
       "Model affable-shark     IoU     [[tensor(0.9603)]]   [[tensor(0.9603)]]\n",
       "                        Dice    [[tensor(0.9797)]]   [[tensor(0.9797)]]\n",
       "                        PSNR    [[tensor(9.9151)]]   [[tensor(9.9151)]]\n",
       "                        RMSE   [[tensor(10.2187)]]  [[tensor(10.2187)]]\n",
       "                        SSIM    [[tensor(0.6848)]]   [[tensor(0.6848)]]\n",
       "Model powerful-chipmunk IoU     [[tensor(0.9270)]]   [[tensor(0.9270)]]\n",
       "                        Dice    [[tensor(0.9621)]]   [[tensor(0.9621)]]\n",
       "                        PSNR    [[tensor(9.9167)]]   [[tensor(9.9167)]]\n",
       "                        RMSE   [[tensor(10.2168)]]  [[tensor(10.2168)]]\n",
       "                        SSIM    [[tensor(0.6661)]]   [[tensor(0.6661)]]"
      ]
     },
     "metadata": {},
     "output_type": "display_data"
    }
   ],
   "source": [
    "scores=bulk_process(models, datasets)\n",
    "display(scores)"
   ]
  },
  {
   "cell_type": "markdown",
   "metadata": {},
   "source": [
    "### 6. Benchmark another model and compare"
   ]
  },
  {
   "cell_type": "markdown",
   "metadata": {},
   "source": [
    "Let's look at the performance of another model segmenting the same dataset. [This model](https://bioimage.io/#/?id=10.5281%2Fzenodo.6383429&type=model&tags=loyal-squid) is 3D U-Net trained to predict the nuclei and their boundaries in fixed confocal images of developing mouse embryo."
   ]
  },
  {
   "cell_type": "code",
   "execution_count": 6,
   "metadata": {},
   "outputs": [],
   "source": [
    "bmz_model = \"loyal-squid\""
   ]
  },
  {
   "cell_type": "code",
   "execution_count": 7,
   "metadata": {},
   "outputs": [
    {
     "ename": "NameError",
     "evalue": "name 'process' is not defined",
     "output_type": "error",
     "traceback": [
      "\u001b[0;31m---------------------------------------------------------------------------\u001b[0m",
      "\u001b[0;31mNameError\u001b[0m                                 Traceback (most recent call last)",
      "Cell \u001b[0;32mIn[7], line 1\u001b[0m\n\u001b[0;32m----> 1\u001b[0m \u001b[43mprocess\u001b[49m(bmz_model, ome_zarr_uri, reference_annotations, z_slices\u001b[38;5;241m=\u001b[39m[\u001b[38;5;241m170\u001b[39m, \u001b[38;5;241m180\u001b[39m])\n",
      "\u001b[0;31mNameError\u001b[0m: name 'process' is not defined"
     ]
    }
   ],
   "source": [
    "process(bmz_model, ome_zarr_uri, reference_annotations, z_slices=[170, 180])"
   ]
  },
  {
   "cell_type": "markdown",
   "metadata": {},
   "source": [
    "It seems that noisy-fish is better at segmenting Arabidospsis ovules than loyal-squid, this makes sense because noisy-fish was trained precisely for this!"
   ]
  }
 ],
 "metadata": {
  "kernelspec": {
   "display_name": ".venv",
   "language": "python",
   "name": "python3"
  },
  "language_info": {
   "codemirror_mode": {
    "name": "ipython",
    "version": 3
   },
   "file_extension": ".py",
   "mimetype": "text/x-python",
   "name": "python",
   "nbconvert_exporter": "python",
   "pygments_lexer": "ipython3",
   "version": "3.12.4"
  }
 },
 "nbformat": 4,
 "nbformat_minor": 2
}
