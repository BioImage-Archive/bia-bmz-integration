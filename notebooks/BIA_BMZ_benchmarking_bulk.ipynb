{
 "cells": [
  {
   "cell_type": "markdown",
   "metadata": {},
   "source": [
    "# Bioimage Model Zoo and BioImageArchive integration example notebook\n",
    "\n",
    "This notebook shows how to benchmark models from the [BioImage Model Zoo](https://bioimage.io) using reference datasets from the [BioImage Archive](https://www.ebi.ac.uk/bioimage-archive/)"
   ]
  },
  {
   "cell_type": "markdown",
   "metadata": {},
   "source": [
    "### 1. Import necessary dependencies"
   ]
  },
  {
   "cell_type": "code",
   "execution_count": 1,
   "metadata": {},
   "outputs": [
    {
     "name": "stderr",
     "output_type": "stream",
     "text": [
      "2024-10-16 09:35:55.167345: I tensorflow/core/platform/cpu_feature_guard.cc:210] This TensorFlow binary is optimized to use available CPU instructions in performance-critical operations.\n",
      "To enable the following instructions: AVX2 AVX512F AVX512_VNNI FMA, in other operations, rebuild TensorFlow with the appropriate compiler flags.\n"
     ]
    }
   ],
   "source": [
    "from bia_bmz_integration import bulk_process"
   ]
  },
  {
   "cell_type": "markdown",
   "metadata": {},
   "source": [
    "### 2. Input BMZ models to benchmark"
   ]
  },
  {
   "cell_type": "markdown",
   "metadata": {},
   "source": [
    "Let's look at the performance of [loyal squid](https://bioimage.io/#/?tags=loyal-squid&id=10.5281%2Fzenodo.6383429) and [noisy fish](https://bioimage.io/#/?id=10.5281%2Fzenodo.7772662&type=model&tags=noisy-fish) to segment cell nuclei in 3D."
   ]
  },
  {
   "cell_type": "code",
   "execution_count": 2,
   "metadata": {},
   "outputs": [],
   "source": [
    "models = [\n",
    "    \"loyal-squid\",\n",
    "    \"noisy-fish\",\n",
    "]"
   ]
  },
  {
   "cell_type": "markdown",
   "metadata": {},
   "source": [
    "### 3. Input reference image and annotation from the BIA"
   ]
  },
  {
   "cell_type": "markdown",
   "metadata": {},
   "source": [
    "We will test their performance on [S-BIAD1026](https://www.ebi.ac.uk/biostudies/bioimages/studies/S-BIAD1026). A dataset that contains annotated 3D images of Arabidopsis Ovules. "
   ]
  },
  {
   "cell_type": "code",
   "execution_count": 3,
   "metadata": {},
   "outputs": [],
   "source": [
    "datasets = {\n",
    "    \"BIAD1026\": (\n",
    "        \"https://uk1s3.embassy.ebi.ac.uk/bia-zarr-test/1135_n_H2BtdTomato.ome.zarr/0\",\n",
    "        \"https://uk1s3.embassy.ebi.ac.uk/bia-zarr-test/1135_n_stain_StarDist_goldGT_180_rotation.ome.zarr/0\",\n",
    "    )\n",
    "}"
   ]
  },
  {
   "cell_type": "markdown",
   "metadata": {},
   "source": [
    "### 4. Run benchmarking"
   ]
  },
  {
   "cell_type": "markdown",
   "metadata": {},
   "source": [
    "We are going to run the model only on a few z planes to speed things up. The relevant metrics here are precision, recall, IoU and Dice that allow us to evaluate the accuracy of the segmentation. The scores vary from 0 to 1, with 1 denoting the most similarity between the model's prediction and the reference annotation."
   ]
  },
  {
   "cell_type": "code",
   "execution_count": 4,
   "metadata": {},
   "outputs": [
    {
     "name": "stderr",
     "output_type": "stream",
     "text": [
      "\u001b[32m2024-10-16 09:36:01.661\u001b[0m | \u001b[1mINFO    \u001b[0m | \u001b[36mbioimageio.spec._internal.io_utils\u001b[0m:\u001b[36mopen_bioimageio_yaml\u001b[0m:\u001b[36m112\u001b[0m - \u001b[1mloading loyal-squid from https://uk1s3.embassy.ebi.ac.uk/public-datasets/bioimage.io/loyal-squid/1/files/rdf.yaml\u001b[0m\n",
      "computing SHA256 of dda95f7f60c6068d78ba361cb7f3bb4a-unet-bce-dice-ab-nuclei-boundary-090121.pytorch (result: c7c73485fd17273f8018e7e8ba76c030d7b0c8553a242ac1303b23904f6303ef): 100%|██████████| 32/32 [00:00<00:00, 3093.00it/s]\n",
      "computing SHA256 of 33f352b4c9795752f4fb121864142882-torchscript_tracing.pt (result: 01b197c06500ab96d5ef051901fcd07add7f5b96ef3bbac9473f34be9c4d7ba0): 100%|██████████| 33/33 [00:00<00:00, 2498.28it/s]\n",
      "\u001b[32m2024-10-16 09:36:17.013\u001b[0m | \u001b[1mINFO    \u001b[0m | \u001b[36mbioimageio.spec._internal.io_utils\u001b[0m:\u001b[36mopen_bioimageio_yaml\u001b[0m:\u001b[36m112\u001b[0m - \u001b[1mloading noisy-fish from https://uk1s3.embassy.ebi.ac.uk/public-datasets/bioimage.io/noisy-fish/1/files/rdf.yaml\u001b[0m\n",
      "computing SHA256 of bb65d9efd934981f2278f9240b79217e-confocal_3D_unet_ovules_nuclei_ds1x.pytorch (result: a02824ac1a3ac43122ba6345804664be7d70124ac23b07cd1c488818b61895ef): 100%|██████████| 125/125 [00:00<00:00, 5722.11it/s]\n",
      "computing SHA256 of 9305d677cac6c31f76135bad97cb47bd-torchscript_tracing.pt (result: b3f6e6597ddf5d937f054020e596184612314b2b17a75eff7ffe942cf652c3e5): 100%|██████████| 126/126 [00:00<00:00, 5886.15it/s]\n"
     ]
    },
    {
     "data": {
      "text/html": [
       "<div>\n",
       "<style scoped>\n",
       "    .dataframe tbody tr th:only-of-type {\n",
       "        vertical-align: middle;\n",
       "    }\n",
       "\n",
       "    .dataframe tbody tr th {\n",
       "        vertical-align: top;\n",
       "    }\n",
       "\n",
       "    .dataframe thead th {\n",
       "        text-align: right;\n",
       "    }\n",
       "</style>\n",
       "<table border=\"1\" class=\"dataframe\">\n",
       "  <thead>\n",
       "    <tr style=\"text-align: right;\">\n",
       "      <th></th>\n",
       "      <th></th>\n",
       "      <th>Dataset BIAD1026</th>\n",
       "    </tr>\n",
       "    <tr>\n",
       "      <th>Model</th>\n",
       "      <th>Score</th>\n",
       "      <th></th>\n",
       "    </tr>\n",
       "  </thead>\n",
       "  <tbody>\n",
       "    <tr>\n",
       "      <th rowspan=\"7\" valign=\"top\">Model loyal-squid</th>\n",
       "      <th>Precision</th>\n",
       "      <td>0.999000</td>\n",
       "    </tr>\n",
       "    <tr>\n",
       "      <th>Recall</th>\n",
       "      <td>0.346000</td>\n",
       "    </tr>\n",
       "    <tr>\n",
       "      <th>IoU</th>\n",
       "      <td>0.345634</td>\n",
       "    </tr>\n",
       "    <tr>\n",
       "      <th>Dice</th>\n",
       "      <td>0.513712</td>\n",
       "    </tr>\n",
       "    <tr>\n",
       "      <th>PSNR</th>\n",
       "      <td>12.793850</td>\n",
       "    </tr>\n",
       "    <tr>\n",
       "      <th>RMSE</th>\n",
       "      <td>262.490051</td>\n",
       "    </tr>\n",
       "    <tr>\n",
       "      <th>SSIM</th>\n",
       "      <td>0.875026</td>\n",
       "    </tr>\n",
       "    <tr>\n",
       "      <th rowspan=\"7\" valign=\"top\">Model noisy-fish</th>\n",
       "      <th>Precision</th>\n",
       "      <td>0.870000</td>\n",
       "    </tr>\n",
       "    <tr>\n",
       "      <th>Recall</th>\n",
       "      <td>0.831000</td>\n",
       "    </tr>\n",
       "    <tr>\n",
       "      <th>IoU</th>\n",
       "      <td>0.739073</td>\n",
       "    </tr>\n",
       "    <tr>\n",
       "      <th>Dice</th>\n",
       "      <td>0.849962</td>\n",
       "    </tr>\n",
       "    <tr>\n",
       "      <th>PSNR</th>\n",
       "      <td>12.797844</td>\n",
       "    </tr>\n",
       "    <tr>\n",
       "      <th>RMSE</th>\n",
       "      <td>262.369568</td>\n",
       "    </tr>\n",
       "    <tr>\n",
       "      <th>SSIM</th>\n",
       "      <td>0.875068</td>\n",
       "    </tr>\n",
       "  </tbody>\n",
       "</table>\n",
       "</div>"
      ],
      "text/plain": [
       "                             Dataset BIAD1026\n",
       "Model             Score                      \n",
       "Model loyal-squid Precision          0.999000\n",
       "                  Recall             0.346000\n",
       "                  IoU                0.345634\n",
       "                  Dice               0.513712\n",
       "                  PSNR              12.793850\n",
       "                  RMSE             262.490051\n",
       "                  SSIM               0.875026\n",
       "Model noisy-fish  Precision          0.870000\n",
       "                  Recall             0.831000\n",
       "                  IoU                0.739073\n",
       "                  Dice               0.849962\n",
       "                  PSNR              12.797844\n",
       "                  RMSE             262.369568\n",
       "                  SSIM               0.875068"
      ]
     },
     "metadata": {},
     "output_type": "display_data"
    }
   ],
   "source": [
    "scores=bulk_process(models, datasets, z_planes=[170, 178])\n",
    "display(scores)"
   ]
  }
 ],
 "metadata": {
  "kernelspec": {
   "display_name": ".venv",
   "language": "python",
   "name": "python3"
  },
  "language_info": {
   "codemirror_mode": {
    "name": "ipython",
    "version": 3
   },
   "file_extension": ".py",
   "mimetype": "text/x-python",
   "name": "python",
   "nbconvert_exporter": "python",
   "pygments_lexer": "ipython3",
   "version": "3.12.4"
  }
 },
 "nbformat": 4,
 "nbformat_minor": 2
}
